{
 "cells": [
  {
   "cell_type": "code",
   "id": "initial_id",
   "metadata": {
    "ExecuteTime": {
     "end_time": "2025-03-27T11:06:42.068684Z",
     "start_time": "2025-03-27T11:06:38.350198Z"
    }
   },
   "source": [
    "from datetime import timedelta, datetime, timezone\n",
    "\n",
    "from matplotlib import pyplot as plt\n",
    "from sunpy.net.fido_factory import UnifiedResponse\n",
    "\n",
    "from data.flux.spec.channel import FrequencyBand, FluxChannel\n",
    "from data.flux.spec.data import Flux\n",
    "from utils.range import DateTimeRange\n",
    "\n",
    "# TODO: merge data fetching with _clean.ipynb\n",
    "\n",
    "# Section: flux, label\n",
    "sections: list[tuple[dict[FluxChannel, Flux], DateTimeRange, str]] = []"
   ],
   "outputs": [],
   "execution_count": 1
  },
  {
   "cell_type": "code",
   "id": "8d74f3bc1cbaa623",
   "metadata": {
    "ExecuteTime": {
     "end_time": "2025-03-27T11:08:26.047042Z",
     "start_time": "2025-03-27T11:06:42.098520Z"
    }
   },
   "source": [
    "\"\"\"\n",
    "Load interesting sections from the archive data.\n",
    "\"\"\"\n",
    "from importer.flux.archive import _from_timeseries, _select_best_sources\n",
    "from sunpy.timeseries import TimeSeries\n",
    "from sunpy.net import Fido\n",
    "from sunpy.net import attrs\n",
    "\n",
    "# Sample dates with various edge cases\n",
    "ARCHIVE_DATES = (\n",
    "    '1996-07-07', '2002-12-19', '2002-12-20', '2009-09-22', '2017-09-06'\n",
    ")\n",
    "ARCHIVE_SECTION_SIZE = timedelta(days=3)\n",
    "\n",
    "\n",
    "def _search(time_range: DateTimeRange) -> dict[int, UnifiedResponse]:\n",
    "    results = Fido.search(\n",
    "        attrs.Time(time_range.start, time_range.end),\n",
    "        attrs.Instrument(\"XRS\")\n",
    "    )[0]\n",
    "    return {\n",
    "        satellite: _select_best_sources(\n",
    "            results[results['SatelliteNumber'] == satellite]\n",
    "        ) for satellite in set(results['SatelliteNumber'])\n",
    "    }\n",
    "\n",
    "\n",
    "for date_str in ARCHIVE_DATES:\n",
    "    start_date = datetime.fromisoformat(date_str)\n",
    "    time_range = DateTimeRange(start_date, start_date + ARCHIVE_SECTION_SIZE)\n",
    "    print(f'Loading {time_range}')\n",
    "\n",
    "    satellite_files = {}\n",
    "    try:\n",
    "        search_results = _search(time_range)\n",
    "        if len(search_results) <= 1:\n",
    "            print('Only one or no satellites found. Skipping...')\n",
    "            continue\n",
    "        satellite_files = {\n",
    "            satellite: Fido.fetch(results)\n",
    "            for satellite, results in search_results.items()\n",
    "        }\n",
    "    except Exception as e:\n",
    "        print(f'Failed to search and download {date_str}: {e}')\n",
    "    if len(satellite_files) == 0:\n",
    "        print('No data found.')\n",
    "        continue\n",
    "\n",
    "    channels = {}\n",
    "    for satellite, files in satellite_files.items():\n",
    "        if len(files) == 0:\n",
    "            print(f'Download failed for satellite {satellite}.')\n",
    "            continue\n",
    "\n",
    "        series = TimeSeries(files, concatenate=True).to_dataframe()\n",
    "        for band in (FrequencyBand.SHORT, FrequencyBand.LONG):\n",
    "            channels[FluxChannel(satellite, band, False)] = _from_timeseries(series, band)\n",
    "\n",
    "    sections.append((channels, time_range, date_str))"
   ],
   "outputs": [
    {
     "name": "stdout",
     "output_type": "stream",
     "text": [
      "Loading 1996-07-07 00:00:00 - 1996-07-10 00:00:00\n"
     ]
    },
    {
     "data": {
      "text/plain": [
       "Files Downloaded:   0%|          | 0/4 [00:00<?, ?file/s]"
      ],
      "application/vnd.jupyter.widget-view+json": {
       "version_major": 2,
       "version_minor": 0,
       "model_id": "b17e16174d714f3ba7eff07fd53240a1"
      }
     },
     "metadata": {},
     "output_type": "display_data"
    },
    {
     "data": {
      "text/plain": [
       "Files Downloaded:   0%|          | 0/4 [00:00<?, ?file/s]"
      ],
      "application/vnd.jupyter.widget-view+json": {
       "version_major": 2,
       "version_minor": 0,
       "model_id": "8d6929afbd034e0c9c117da44e9bb372"
      }
     },
     "metadata": {},
     "output_type": "display_data"
    },
    {
     "data": {
      "text/plain": [
       "Files Downloaded:   0%|          | 0/4 [00:00<?, ?file/s]"
      ],
      "application/vnd.jupyter.widget-view+json": {
       "version_major": 2,
       "version_minor": 0,
       "model_id": "2a64bdfed735457d937f6c6ddc19dc8c"
      }
     },
     "metadata": {},
     "output_type": "display_data"
    },
    {
     "name": "stderr",
     "output_type": "stream",
     "text": [
      "Exception ignored in: <function BaseEventLoop.__del__ at 0x7f22e6814ea0>\n",
      "Traceback (most recent call last):\n",
      "  File \"/home/tschai/micromamba/envs/heliotime-server/lib/python3.12/asyncio/base_events.py\", line 728, in __del__\n",
      "    self.close()\n",
      "  File \"/home/tschai/micromamba/envs/heliotime-server/lib/python3.12/asyncio/unix_events.py\", line 71, in close\n",
      "    self.remove_signal_handler(sig)\n",
      "  File \"/home/tschai/micromamba/envs/heliotime-server/lib/python3.12/asyncio/unix_events.py\", line 160, in remove_signal_handler\n",
      "    signal.signal(sig, handler)\n",
      "  File \"/home/tschai/micromamba/envs/heliotime-server/lib/python3.12/signal.py\", line 58, in signal\n",
      "    handler = _signal.signal(_enum_to_int(signalnum), _enum_to_int(handler))\n",
      "              ^^^^^^^^^^^^^^^^^^^^^^^^^^^^^^^^^^^^^^^^^^^^^^^^^^^^^^^^^^^^^^\n",
      "ValueError: signal only works in main thread of the main interpreter\n",
      "Exception ignored in: <function BaseEventLoop.__del__ at 0x7f22e6814ea0>\n",
      "Traceback (most recent call last):\n",
      "  File \"/home/tschai/micromamba/envs/heliotime-server/lib/python3.12/asyncio/base_events.py\", line 728, in __del__\n",
      "    self.close()\n",
      "  File \"/home/tschai/micromamba/envs/heliotime-server/lib/python3.12/asyncio/unix_events.py\", line 71, in close\n",
      "    self.remove_signal_handler(sig)\n",
      "  File \"/home/tschai/micromamba/envs/heliotime-server/lib/python3.12/asyncio/unix_events.py\", line 160, in remove_signal_handler\n",
      "    signal.signal(sig, handler)\n",
      "  File \"/home/tschai/micromamba/envs/heliotime-server/lib/python3.12/signal.py\", line 58, in signal\n",
      "    handler = _signal.signal(_enum_to_int(signalnum), _enum_to_int(handler))\n",
      "              ^^^^^^^^^^^^^^^^^^^^^^^^^^^^^^^^^^^^^^^^^^^^^^^^^^^^^^^^^^^^^^\n",
      "ValueError: signal only works in main thread of the main interpreter\n"
     ]
    },
    {
     "name": "stdout",
     "output_type": "stream",
     "text": [
      "Loading 2002-12-19 00:00:00 - 2002-12-22 00:00:00\n"
     ]
    },
    {
     "data": {
      "text/plain": [
       "Files Downloaded:   0%|          | 0/4 [00:00<?, ?file/s]"
      ],
      "application/vnd.jupyter.widget-view+json": {
       "version_major": 2,
       "version_minor": 0,
       "model_id": "f653bc133e464a6d960babb1ba881eb0"
      }
     },
     "metadata": {},
     "output_type": "display_data"
    },
    {
     "name": "stderr",
     "output_type": "stream",
     "text": [
      "Exception ignored in: <function BaseEventLoop.__del__ at 0x7f22e6814ea0>\n",
      "Traceback (most recent call last):\n",
      "  File \"/home/tschai/micromamba/envs/heliotime-server/lib/python3.12/asyncio/base_events.py\", line 728, in __del__\n",
      "    self.close()\n",
      "  File \"/home/tschai/micromamba/envs/heliotime-server/lib/python3.12/asyncio/unix_events.py\", line 71, in close\n",
      "    self.remove_signal_handler(sig)\n",
      "  File \"/home/tschai/micromamba/envs/heliotime-server/lib/python3.12/asyncio/unix_events.py\", line 160, in remove_signal_handler\n",
      "    signal.signal(sig, handler)\n",
      "  File \"/home/tschai/micromamba/envs/heliotime-server/lib/python3.12/signal.py\", line 58, in signal\n",
      "    handler = _signal.signal(_enum_to_int(signalnum), _enum_to_int(handler))\n",
      "              ^^^^^^^^^^^^^^^^^^^^^^^^^^^^^^^^^^^^^^^^^^^^^^^^^^^^^^^^^^^^^^\n",
      "ValueError: signal only works in main thread of the main interpreter\n"
     ]
    },
    {
     "data": {
      "text/plain": [
       "Files Downloaded:   0%|          | 0/4 [00:00<?, ?file/s]"
      ],
      "application/vnd.jupyter.widget-view+json": {
       "version_major": 2,
       "version_minor": 0,
       "model_id": "9c8da93fa913432dbacb0653285f91b1"
      }
     },
     "metadata": {},
     "output_type": "display_data"
    },
    {
     "name": "stdout",
     "output_type": "stream",
     "text": [
      "Loading 2002-12-20 00:00:00 - 2002-12-23 00:00:00\n"
     ]
    },
    {
     "data": {
      "text/plain": [
       "Files Downloaded:   0%|          | 0/4 [00:00<?, ?file/s]"
      ],
      "application/vnd.jupyter.widget-view+json": {
       "version_major": 2,
       "version_minor": 0,
       "model_id": "f581aae3c0df408ab8efda723b21095d"
      }
     },
     "metadata": {},
     "output_type": "display_data"
    },
    {
     "name": "stderr",
     "output_type": "stream",
     "text": [
      "Exception ignored in: <function BaseEventLoop.__del__ at 0x7f22e6814ea0>\n",
      "Traceback (most recent call last):\n",
      "  File \"/home/tschai/micromamba/envs/heliotime-server/lib/python3.12/asyncio/base_events.py\", line 728, in __del__\n",
      "    self.close()\n",
      "  File \"/home/tschai/micromamba/envs/heliotime-server/lib/python3.12/asyncio/unix_events.py\", line 71, in close\n",
      "    self.remove_signal_handler(sig)\n",
      "  File \"/home/tschai/micromamba/envs/heliotime-server/lib/python3.12/asyncio/unix_events.py\", line 160, in remove_signal_handler\n",
      "    signal.signal(sig, handler)\n",
      "  File \"/home/tschai/micromamba/envs/heliotime-server/lib/python3.12/signal.py\", line 58, in signal\n",
      "    handler = _signal.signal(_enum_to_int(signalnum), _enum_to_int(handler))\n",
      "              ^^^^^^^^^^^^^^^^^^^^^^^^^^^^^^^^^^^^^^^^^^^^^^^^^^^^^^^^^^^^^^\n",
      "ValueError: signal only works in main thread of the main interpreter\n"
     ]
    },
    {
     "data": {
      "text/plain": [
       "Files Downloaded:   0%|          | 0/4 [00:00<?, ?file/s]"
      ],
      "application/vnd.jupyter.widget-view+json": {
       "version_major": 2,
       "version_minor": 0,
       "model_id": "1e9dbec375d747378e41a2931d97d7b8"
      }
     },
     "metadata": {},
     "output_type": "display_data"
    },
    {
     "name": "stdout",
     "output_type": "stream",
     "text": [
      "Loading 2009-09-22 00:00:00 - 2009-09-25 00:00:00\n"
     ]
    },
    {
     "data": {
      "text/plain": [
       "Files Downloaded:   0%|          | 0/4 [00:00<?, ?file/s]"
      ],
      "application/vnd.jupyter.widget-view+json": {
       "version_major": 2,
       "version_minor": 0,
       "model_id": "96d48a0b20394f2e9f1c8e020084f342"
      }
     },
     "metadata": {},
     "output_type": "display_data"
    },
    {
     "name": "stderr",
     "output_type": "stream",
     "text": [
      "Exception ignored in: <function BaseEventLoop.__del__ at 0x7f22e6814ea0>\n",
      "Traceback (most recent call last):\n",
      "  File \"/home/tschai/micromamba/envs/heliotime-server/lib/python3.12/asyncio/base_events.py\", line 728, in __del__\n",
      "    self.close()\n",
      "  File \"/home/tschai/micromamba/envs/heliotime-server/lib/python3.12/asyncio/unix_events.py\", line 71, in close\n",
      "    self.remove_signal_handler(sig)\n",
      "  File \"/home/tschai/micromamba/envs/heliotime-server/lib/python3.12/asyncio/unix_events.py\", line 160, in remove_signal_handler\n",
      "    signal.signal(sig, handler)\n",
      "  File \"/home/tschai/micromamba/envs/heliotime-server/lib/python3.12/signal.py\", line 58, in signal\n",
      "    handler = _signal.signal(_enum_to_int(signalnum), _enum_to_int(handler))\n",
      "              ^^^^^^^^^^^^^^^^^^^^^^^^^^^^^^^^^^^^^^^^^^^^^^^^^^^^^^^^^^^^^^\n",
      "ValueError: signal only works in main thread of the main interpreter\n"
     ]
    },
    {
     "data": {
      "text/plain": [
       "Files Downloaded:   0%|          | 0/4 [00:00<?, ?file/s]"
      ],
      "application/vnd.jupyter.widget-view+json": {
       "version_major": 2,
       "version_minor": 0,
       "model_id": "c98cf03910a74dfe9556df07a0d04ca3"
      }
     },
     "metadata": {},
     "output_type": "display_data"
    },
    {
     "name": "stdout",
     "output_type": "stream",
     "text": [
      "Loading 2017-09-06 00:00:00 - 2017-09-09 00:00:00\n"
     ]
    },
    {
     "data": {
      "text/plain": [
       "Files Downloaded:   0%|          | 0/4 [00:00<?, ?file/s]"
      ],
      "application/vnd.jupyter.widget-view+json": {
       "version_major": 2,
       "version_minor": 0,
       "model_id": "98dc9eb5cef74f58974558535da7a23d"
      }
     },
     "metadata": {},
     "output_type": "display_data"
    },
    {
     "data": {
      "text/plain": [
       "Files Downloaded:   0%|          | 0/4 [00:00<?, ?file/s]"
      ],
      "application/vnd.jupyter.widget-view+json": {
       "version_major": 2,
       "version_minor": 0,
       "model_id": "60a978006c684a1caa0bd74d42889026"
      }
     },
     "metadata": {},
     "output_type": "display_data"
    },
    {
     "name": "stderr",
     "output_type": "stream",
     "text": [
      "Exception ignored in: <function BaseEventLoop.__del__ at 0x7f22e6814ea0>\n",
      "Traceback (most recent call last):\n",
      "  File \"/home/tschai/micromamba/envs/heliotime-server/lib/python3.12/asyncio/base_events.py\", line 728, in __del__\n",
      "    self.close()\n",
      "  File \"/home/tschai/micromamba/envs/heliotime-server/lib/python3.12/asyncio/unix_events.py\", line 71, in close\n",
      "    self.remove_signal_handler(sig)\n",
      "  File \"/home/tschai/micromamba/envs/heliotime-server/lib/python3.12/asyncio/unix_events.py\", line 160, in remove_signal_handler\n",
      "    signal.signal(sig, handler)\n",
      "  File \"/home/tschai/micromamba/envs/heliotime-server/lib/python3.12/signal.py\", line 58, in signal\n",
      "    handler = _signal.signal(_enum_to_int(signalnum), _enum_to_int(handler))\n",
      "              ^^^^^^^^^^^^^^^^^^^^^^^^^^^^^^^^^^^^^^^^^^^^^^^^^^^^^^^^^^^^^^\n",
      "ValueError: signal only works in main thread of the main interpreter\n"
     ]
    },
    {
     "data": {
      "text/plain": [
       "Files Downloaded:   0%|          | 0/4 [00:00<?, ?file/s]"
      ],
      "application/vnd.jupyter.widget-view+json": {
       "version_major": 2,
       "version_minor": 0,
       "model_id": "115296903d5a4180840abfff34096c81"
      }
     },
     "metadata": {},
     "output_type": "display_data"
    }
   ],
   "execution_count": 2
  },
  {
   "cell_type": "code",
   "id": "23b7cba172a05e4",
   "metadata": {
    "ExecuteTime": {
     "end_time": "2025-03-27T11:08:26.678863Z",
     "start_time": "2025-03-27T11:08:26.227789Z"
    }
   },
   "source": [
    "\"\"\"\n",
    "Load all available live data.\n",
    "Is a separate case because it is minute averaged.\n",
    "\"\"\"\n",
    "from importer.flux.live import _select_live_url, _from_live_json\n",
    "from aiohttp import ClientSession\n",
    "from data.flux.spec.channel import FrequencyBand\n",
    "\n",
    "live_end = datetime.now(timezone.utc)\n",
    "live_range = DateTimeRange(live_end - timedelta(days=7), live_end)\n",
    "async with ClientSession() as session:\n",
    "    channels = {}\n",
    "    for primary in (True, False):\n",
    "        async with session.get(_select_live_url(primary, live_range.start)) as response:\n",
    "            json = await response.json()\n",
    "            for band in (FrequencyBand.SHORT, FrequencyBand.LONG):\n",
    "                live_flux, satellite = _from_live_json(json, band, live_range.start)\n",
    "                channels[FluxChannel(satellite, band, False)] = live_flux\n",
    "    sections.append((channels, live_range, 'live'))"
   ],
   "outputs": [],
   "execution_count": 3
  },
  {
   "metadata": {
    "ExecuteTime": {
     "end_time": "2025-03-27T11:08:55.924193Z",
     "start_time": "2025-03-27T11:08:26.684287Z"
    }
   },
   "cell_type": "code",
   "source": [
    "import dataclasses\n",
    "import importlib\n",
    "import importer.flux._clean as clean_module\n",
    "\n",
    "importlib.reload(clean_module)\n",
    "clean_flux = clean_module.clean_flux\n",
    "\n",
    "for channels, time_range, _ in sections:\n",
    "    # list() because cannot modify dict while iterating\n",
    "    for channel, flux in list(channels.items()):\n",
    "        channels[dataclasses.replace(channel, is_clean=True)] = clean_flux(flux, time_range)"
   ],
   "id": "92731121cba51ce1",
   "outputs": [],
   "execution_count": 4
  },
  {
   "cell_type": "code",
   "id": "55753ffcdf5ef7dc",
   "metadata": {
    "ExecuteTime": {
     "end_time": "2025-03-27T11:08:56.394831Z",
     "start_time": "2025-03-27T11:08:55.980458Z"
    }
   },
   "source": [
    "from data.flux.spec.channel import FluxChannel, SATELLITE_COMBINED_ID\n",
    "import importlib\n",
    "import importer.flux._combine as combine_module\n",
    "\n",
    "# Reload modules for easier development\n",
    "importlib.reload(combine_module)\n",
    "combine_flux_channels = combine_module.combine_flux_channels\n",
    "\n",
    "for i, (channels, time_range, label) in enumerate(sections):\n",
    "    combined = combine_flux_channels(channels, time_range)\n",
    "    for band in (FrequencyBand.SHORT, FrequencyBand.LONG):\n",
    "        for is_cleaned in (True, False):\n",
    "            source_channels = {\n",
    "                channel: flux\n",
    "                for channel, flux in channels.items()\n",
    "                if channel.band == band and channel.is_clean == is_cleaned\n",
    "            }\n",
    "            if len(source_channels) == 0:\n",
    "                continue\n",
    "\n",
    "            for channel, flux in source_channels.items():\n",
    "                flux.rename(str(channel.satellite)).plot(\n",
    "                    logy=True, linewidth=3\n",
    "                )\n",
    "            combined_channel = combined[FluxChannel(SATELLITE_COMBINED_ID, band, is_cleaned)]\n",
    "            combined_channel.rename('combined').plot(logy=True)\n",
    "            plt.title(f'{i} | {label} | {band} | {is_cleaned} ')\n",
    "            plt.legend()\n",
    "            plt.show()"
   ],
   "outputs": [
    {
     "ename": "TypeError",
     "evalue": "Cannot subtract tz-naive and tz-aware datetime-like objects.",
     "output_type": "error",
     "traceback": [
      "\u001B[0;31m---------------------------------------------------------------------------\u001B[0m",
      "\u001B[0;31mTypeError\u001B[0m                                 Traceback (most recent call last)",
      "Cell \u001B[0;32mIn[5], line 10\u001B[0m\n\u001B[1;32m      7\u001B[0m combine_flux_channels \u001B[38;5;241m=\u001B[39m combine_module\u001B[38;5;241m.\u001B[39mcombine_flux_channels\n\u001B[1;32m      9\u001B[0m \u001B[38;5;28;01mfor\u001B[39;00m i, (channels, time_range, label) \u001B[38;5;129;01min\u001B[39;00m \u001B[38;5;28menumerate\u001B[39m(sections):\n\u001B[0;32m---> 10\u001B[0m     combined \u001B[38;5;241m=\u001B[39m \u001B[43mcombine_flux_channels\u001B[49m\u001B[43m(\u001B[49m\u001B[43mchannels\u001B[49m\u001B[43m,\u001B[49m\u001B[43m \u001B[49m\u001B[43mtime_range\u001B[49m\u001B[43m)\u001B[49m\n\u001B[1;32m     11\u001B[0m     \u001B[38;5;28;01mfor\u001B[39;00m band \u001B[38;5;129;01min\u001B[39;00m (FrequencyBand\u001B[38;5;241m.\u001B[39mSHORT, FrequencyBand\u001B[38;5;241m.\u001B[39mLONG):\n\u001B[1;32m     12\u001B[0m         \u001B[38;5;28;01mfor\u001B[39;00m is_cleaned \u001B[38;5;129;01min\u001B[39;00m (\u001B[38;5;28;01mTrue\u001B[39;00m, \u001B[38;5;28;01mFalse\u001B[39;00m):\n",
      "File \u001B[0;32m~/vault/PRV+/50-59_Karriere/53_FHNW/53.03_Heliotime/heliotime-v2/server/importer/flux/_combine.py:105\u001B[0m, in \u001B[0;36mcombine_flux_channels\u001B[0;34m(flux_channels, time_range)\u001B[0m\n\u001B[1;32m    103\u001B[0m \u001B[38;5;66;03m# Find gaps in each clean channel\u001B[39;00m\n\u001B[1;32m    104\u001B[0m \u001B[38;5;28;01mfor\u001B[39;00m flux \u001B[38;5;129;01min\u001B[39;00m clean_flux_channels:\n\u001B[0;32m--> 105\u001B[0m     forward_delta, backward_delta \u001B[38;5;241m=\u001B[39m \u001B[43m_calculate_bidirectional_time_delta\u001B[49m\u001B[43m(\u001B[49m\u001B[43mflux\u001B[49m\u001B[38;5;241;43m.\u001B[39;49m\u001B[43mindex\u001B[49m\u001B[43m,\u001B[49m\u001B[43m \u001B[49m\u001B[43mtime_range\u001B[49m\u001B[43m)\u001B[49m\n\u001B[1;32m    106\u001B[0m     is_after_gap[flux\u001B[38;5;241m.\u001B[39mindex] \u001B[38;5;241m|\u001B[39m\u001B[38;5;241m=\u001B[39m forward_delta \u001B[38;5;241m>\u001B[39m gap_threshold\n\u001B[1;32m    107\u001B[0m     is_before_gap[flux\u001B[38;5;241m.\u001B[39mindex] \u001B[38;5;241m|\u001B[39m\u001B[38;5;241m=\u001B[39m backward_delta \u001B[38;5;241m>\u001B[39m gap_threshold\n",
      "File \u001B[0;32m~/vault/PRV+/50-59_Karriere/53_FHNW/53.03_Heliotime/heliotime-v2/server/importer/flux/_combine.py:38\u001B[0m, in \u001B[0;36m_calculate_bidirectional_time_delta\u001B[0;34m(time_index, time_range)\u001B[0m\n\u001B[1;32m     36\u001B[0m \u001B[38;5;66;03m# Calculate forward time differences\u001B[39;00m\n\u001B[1;32m     37\u001B[0m forward_time_delta \u001B[38;5;241m=\u001B[39m time_index\u001B[38;5;241m.\u001B[39mto_series()\u001B[38;5;241m.\u001B[39mdiff()\n\u001B[0;32m---> 38\u001B[0m forward_time_delta\u001B[38;5;241m.\u001B[39miloc[\u001B[38;5;241m0\u001B[39m] \u001B[38;5;241m=\u001B[39m \u001B[43mtime_range\u001B[49m\u001B[38;5;241;43m.\u001B[39;49m\u001B[43mstart\u001B[49m\u001B[43m \u001B[49m\u001B[38;5;241;43m-\u001B[39;49m\u001B[43m \u001B[49m\u001B[43mtime_index\u001B[49m\u001B[43m[\u001B[49m\u001B[38;5;241;43m0\u001B[39;49m\u001B[43m]\u001B[49m\n\u001B[1;32m     39\u001B[0m \u001B[38;5;66;03m# Calculate backward time differences (to next point)\u001B[39;00m\n\u001B[1;32m     40\u001B[0m backward_time_delta \u001B[38;5;241m=\u001B[39m forward_time_delta\u001B[38;5;241m.\u001B[39mshift(\n\u001B[1;32m     41\u001B[0m     periods\u001B[38;5;241m=\u001B[39m\u001B[38;5;241m-\u001B[39m\u001B[38;5;241m1\u001B[39m,\n\u001B[1;32m     42\u001B[0m     fill_value\u001B[38;5;241m=\u001B[39mtime_index\u001B[38;5;241m.\u001B[39mmax() \u001B[38;5;241m-\u001B[39m time_range\u001B[38;5;241m.\u001B[39mend\n\u001B[1;32m     43\u001B[0m )\n",
      "File \u001B[0;32mtimestamps.pyx:546\u001B[0m, in \u001B[0;36mpandas._libs.tslibs.timestamps._Timestamp.__rsub__\u001B[0;34m()\u001B[0m\n",
      "File \u001B[0;32mtimestamps.pyx:514\u001B[0m, in \u001B[0;36mpandas._libs.tslibs.timestamps._Timestamp.__sub__\u001B[0;34m()\u001B[0m\n",
      "\u001B[0;31mTypeError\u001B[0m: Cannot subtract tz-naive and tz-aware datetime-like objects."
     ]
    }
   ],
   "execution_count": 5
  }
 ],
 "metadata": {
  "kernelspec": {
   "display_name": "Python 3 (ipykernel)",
   "language": "python",
   "name": "python3"
  },
  "language_info": {
   "codemirror_mode": {
    "name": "ipython",
    "version": 3
   },
   "file_extension": ".py",
   "mimetype": "text/x-python",
   "name": "python",
   "nbconvert_exporter": "python",
   "pygments_lexer": "ipython3",
   "version": "3.12.7"
  }
 },
 "nbformat": 4,
 "nbformat_minor": 5
}
